{
 "cells": [
  {
   "cell_type": "markdown",
   "id": "9de33b0e",
   "metadata": {},
   "source": [
    "一、已知一个有训练数据集，其正例点是$x_1=(3,3)，x_1=(4,3)$,负例点是$x_3=(1,1)$，请用代码求出分类超平面并给出感知机模型。"
   ]
  },
  {
   "cell_type": "code",
   "execution_count": 1,
   "id": "2d8ef4d5",
   "metadata": {},
   "outputs": [
    {
     "name": "stdout",
     "output_type": "stream",
     "text": [
      "[3.1 6.2]\n"
     ]
    }
   ],
   "source": [
    "import numpy as np\n",
    "\n",
    "x = np.array([1, 2])\n",
    "y = 3.1\n",
    "\n",
    "print(np.dot(y, x))"
   ]
  },
  {
   "cell_type": "code",
   "execution_count": 15,
   "id": "44256ff1",
   "metadata": {},
   "outputs": [],
   "source": [
    "# 定义感知机模型\n",
    "class PerceptionModel:\n",
    "    def __init__(self): \n",
    "        self.w = np.ones(2) - 1\n",
    "        self.b = 0\n",
    "        self.lr = 1\n",
    "    def func(self, X):\n",
    "        return np.dot(self.w, X) + self.b\n",
    "    # 随机梯度下降\n",
    "    def SGD(self, train_x, train_y):\n",
    "        has_error_point = True\n",
    "        while has_error_point:\n",
    "            has_error_point = False\n",
    "            #寻找误分类点\n",
    "            for i in range(len(train_x)):\n",
    "                cur_x = train_x[i]\n",
    "                cur_y = train_y[i]\n",
    "                if cur_y * self.func(cur_x) <= 0:\n",
    "                    # 找到一个误分类点\n",
    "                    has_error_point = True\n",
    "                    self.w = self.w + self.lr * np.dot(cur_y , cur_x)\n",
    "                    self.b = self.b + self.lr * (cur_y)\n",
    "                    print('error classified point: (%s, %f)' % (cur_x, cur_y))\n",
    "                    self.print_func()\n",
    "        print('Train Finished')\n",
    "        \n",
    "    def print_func(self):\n",
    "        print('w = ', self.w, 'b = ', self.b)                    "
   ]
  },
  {
   "cell_type": "code",
   "execution_count": 16,
   "id": "27a84e74",
   "metadata": {},
   "outputs": [
    {
     "name": "stdout",
     "output_type": "stream",
     "text": [
      "error classified point: ([3, 3], 1.000000)\n",
      "w =  [3. 3.] b =  1\n",
      "error classified point: ([1, 1], -1.000000)\n",
      "w =  [2. 2.] b =  0\n",
      "error classified point: ([1, 1], -1.000000)\n",
      "w =  [1. 1.] b =  -1\n",
      "error classified point: ([1, 1], -1.000000)\n",
      "w =  [0. 0.] b =  -2\n",
      "error classified point: ([3, 3], 1.000000)\n",
      "w =  [3. 3.] b =  -1\n",
      "error classified point: ([1, 1], -1.000000)\n",
      "w =  [2. 2.] b =  -2\n",
      "error classified point: ([1, 1], -1.000000)\n",
      "w =  [1. 1.] b =  -3\n",
      "Train Finished\n"
     ]
    }
   ],
   "source": [
    "# 准备数据\n",
    "x_points = [ [3, 3],[4, 3],[1, 1] ]\n",
    "y_label = [1, 1, -1]\n",
    "\n",
    "perceptron = PerceptionModel()\n",
    "perceptron.SGD(x_points, y_label)\n"
   ]
  },
  {
   "cell_type": "code",
   "execution_count": null,
   "id": "728683ce",
   "metadata": {},
   "outputs": [],
   "source": []
  }
 ],
 "metadata": {
  "kernelspec": {
   "display_name": "Python 3",
   "language": "python",
   "name": "python3"
  },
  "language_info": {
   "codemirror_mode": {
    "name": "ipython",
    "version": 3
   },
   "file_extension": ".py",
   "mimetype": "text/x-python",
   "name": "python",
   "nbconvert_exporter": "python",
   "pygments_lexer": "ipython3",
   "version": "3.8.8"
  }
 },
 "nbformat": 4,
 "nbformat_minor": 5
}
