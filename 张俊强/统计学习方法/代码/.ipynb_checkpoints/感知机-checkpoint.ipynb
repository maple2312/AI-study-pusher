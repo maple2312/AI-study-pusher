{
 "cells": [
  {
   "cell_type": "markdown",
   "id": "8b01b66e",
   "metadata": {},
   "source": [
    "一、已知一个有训练数据集，其正例点是$x_1=(3,3)，x_1=(4,3)$,负例点是$x_3=(1,1)$，请用代码求出分类超平面并给出感知机模型。"
   ]
  },
  {
   "cell_type": "code",
   "execution_count": 21,
   "id": "546b120d",
   "metadata": {},
   "outputs": [
    {
     "name": "stdout",
     "output_type": "stream",
     "text": [
      "[3.1 6.2]\n"
     ]
    }
   ],
   "source": [
    "import numpy as np\n",
    "\n",
    "x = np.array([1, 2])\n",
    "y = 3.1\n",
    "\n",
    "print(np.dot(y, x))"
   ]
  },
  {
   "cell_type": "code",
   "execution_count": 30,
   "id": "34fc317b",
   "metadata": {},
   "outputs": [],
   "source": [
    "# 定义感知机模型\n",
    "class PerceptionModel:\n",
    "    def __init__(self):\n",
    "        self.w = np.ones(2)\n",
    "        self.b = 0\n",
    "        self.lr = 0.01\n",
    "    def func(self, X):\n",
    "        return np.dot(self.w, X) + self.b\n",
    "    # 随机梯度下降\n",
    "    def SGD(self, train_x, train_y):\n",
    "        has_error_point = True\n",
    "        while has_error_point:\n",
    "            has_error_point = False\n",
    "            #寻找误分类点\n",
    "            for i in range(len(train_x)):\n",
    "                cur_x = train_x[i]\n",
    "                cur_y = train_y[i]\n",
    "                if cur_y * self.func(cur_x) <= 0:\n",
    "                    # 找到一个误分类点\n",
    "                    has_error_point = True\n",
    "                    self.w = self.w - self.lr * np.dot(-cur_y , cur_x)\n",
    "                    self.b = self.b - self.lr * (-cur_y)\n",
    "                    self.print_func()\n",
    "        print('Train Finished')\n",
    "        \n",
    "    def print_func(self):\n",
    "        print('w = ', self.w, 'b = ', self.b)                    "
   ]
  },
  {
   "cell_type": "code",
   "execution_count": 31,
   "id": "b5b2695e",
   "metadata": {},
   "outputs": [
    {
     "ename": "NameError",
     "evalue": "name 'print_func' is not defined",
     "output_type": "error",
     "traceback": [
      "\u001b[1;31m---------------------------------------------------------------------------\u001b[0m",
      "\u001b[1;31mNameError\u001b[0m                                 Traceback (most recent call last)",
      "\u001b[1;32m<ipython-input-31-ca27b8ea4ee4>\u001b[0m in \u001b[0;36m<module>\u001b[1;34m\u001b[0m\n\u001b[0;32m      4\u001b[0m \u001b[1;33m\u001b[0m\u001b[0m\n\u001b[0;32m      5\u001b[0m \u001b[0mperceptron\u001b[0m \u001b[1;33m=\u001b[0m \u001b[0mPerceptionModel\u001b[0m\u001b[1;33m(\u001b[0m\u001b[1;33m)\u001b[0m\u001b[1;33m\u001b[0m\u001b[1;33m\u001b[0m\u001b[0m\n\u001b[1;32m----> 6\u001b[1;33m \u001b[0mperceptron\u001b[0m\u001b[1;33m.\u001b[0m\u001b[0mSGD\u001b[0m\u001b[1;33m(\u001b[0m\u001b[0mx_points\u001b[0m\u001b[1;33m,\u001b[0m \u001b[0my_label\u001b[0m\u001b[1;33m)\u001b[0m\u001b[1;33m\u001b[0m\u001b[1;33m\u001b[0m\u001b[0m\n\u001b[0m",
      "\u001b[1;32m<ipython-input-30-cc0fbdcb8c39>\u001b[0m in \u001b[0;36mSGD\u001b[1;34m(self, train_x, train_y)\u001b[0m\n\u001b[0;32m     21\u001b[0m                     \u001b[0mself\u001b[0m\u001b[1;33m.\u001b[0m\u001b[0mw\u001b[0m \u001b[1;33m=\u001b[0m \u001b[0mself\u001b[0m\u001b[1;33m.\u001b[0m\u001b[0mw\u001b[0m \u001b[1;33m-\u001b[0m \u001b[0mself\u001b[0m\u001b[1;33m.\u001b[0m\u001b[0mlr\u001b[0m \u001b[1;33m*\u001b[0m \u001b[0mnp\u001b[0m\u001b[1;33m.\u001b[0m\u001b[0mdot\u001b[0m\u001b[1;33m(\u001b[0m\u001b[1;33m-\u001b[0m\u001b[0mcur_y\u001b[0m \u001b[1;33m,\u001b[0m \u001b[0mcur_x\u001b[0m\u001b[1;33m)\u001b[0m\u001b[1;33m\u001b[0m\u001b[1;33m\u001b[0m\u001b[0m\n\u001b[0;32m     22\u001b[0m                     \u001b[0mself\u001b[0m\u001b[1;33m.\u001b[0m\u001b[0mb\u001b[0m \u001b[1;33m=\u001b[0m \u001b[0mself\u001b[0m\u001b[1;33m.\u001b[0m\u001b[0mb\u001b[0m \u001b[1;33m-\u001b[0m \u001b[0mself\u001b[0m\u001b[1;33m.\u001b[0m\u001b[0mlr\u001b[0m \u001b[1;33m*\u001b[0m \u001b[1;33m(\u001b[0m\u001b[1;33m-\u001b[0m\u001b[0mcur_y\u001b[0m\u001b[1;33m)\u001b[0m\u001b[1;33m\u001b[0m\u001b[1;33m\u001b[0m\u001b[0m\n\u001b[1;32m---> 23\u001b[1;33m                     \u001b[0mprint_func\u001b[0m\u001b[1;33m(\u001b[0m\u001b[1;33m)\u001b[0m\u001b[1;33m\u001b[0m\u001b[1;33m\u001b[0m\u001b[0m\n\u001b[0m\u001b[0;32m     24\u001b[0m         \u001b[0mprint\u001b[0m\u001b[1;33m(\u001b[0m\u001b[1;34m'Train Finished'\u001b[0m\u001b[1;33m)\u001b[0m\u001b[1;33m\u001b[0m\u001b[1;33m\u001b[0m\u001b[0m\n\u001b[0;32m     25\u001b[0m \u001b[1;33m\u001b[0m\u001b[0m\n",
      "\u001b[1;31mNameError\u001b[0m: name 'print_func' is not defined"
     ]
    }
   ],
   "source": [
    "# 准备数据\n",
    "x_points = [ [3, 3],[4, 3],[1, 1] ]\n",
    "y_label = [1, 1, -1]\n",
    "\n",
    "perceptron = PerceptionModel()\n",
    "perceptron.SGD(x_points, y_label)\n"
   ]
  },
  {
   "cell_type": "code",
   "execution_count": null,
   "id": "5389c951",
   "metadata": {},
   "outputs": [],
   "source": []
  }
 ],
 "metadata": {
  "kernelspec": {
   "display_name": "Python 3",
   "language": "python",
   "name": "python3"
  },
  "language_info": {
   "codemirror_mode": {
    "name": "ipython",
    "version": 3
   },
   "file_extension": ".py",
   "mimetype": "text/x-python",
   "name": "python",
   "nbconvert_exporter": "python",
   "pygments_lexer": "ipython3",
   "version": "3.8.8"
  }
 },
 "nbformat": 4,
 "nbformat_minor": 5
}
